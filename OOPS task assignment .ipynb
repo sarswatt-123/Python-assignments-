{
 "cells": [
  {
   "cell_type": "code",
   "execution_count": 2,
   "id": "affcf4c2",
   "metadata": {},
   "outputs": [],
   "source": [
    "# QUESTION 1\n",
    "class vehicle:\n",
    "    def __init__(self,name_of_vehicle,average_vehicle,speed_vehicle):\n",
    "        self.name_of_vehicle= name_of_vehicle\n",
    "        self.average_vehicle= average_vehicle\n",
    "        self.speed_vehicle= speed_vehicle\n",
    "    def return_vehicle_details(self):\n",
    "        return self.name_of_vehicle,self.average_vehicle,self.speed_vehicle"
   ]
  },
  {
   "cell_type": "code",
   "execution_count": 6,
   "id": "a52acad4",
   "metadata": {},
   "outputs": [],
   "source": [
    "car=vehicle('thar',67,23)"
   ]
  },
  {
   "cell_type": "code",
   "execution_count": 7,
   "id": "e53ee5f6",
   "metadata": {},
   "outputs": [
    {
     "data": {
      "text/plain": [
       "('thar', 67, 23)"
      ]
     },
     "execution_count": 7,
     "metadata": {},
     "output_type": "execute_result"
    }
   ],
   "source": [
    "car.return_vehicle_details()"
   ]
  },
  {
   "cell_type": "code",
   "execution_count": 10,
   "id": "75c7d7dc",
   "metadata": {},
   "outputs": [],
   "source": [
    "#QUESTION 2 \n",
    "\n",
    "class child_class(vehicle):\n",
    "    def seating_capacity(self,capacity):\n",
    "         return f\"{self.name_of_vehicle} has a seating capacity of {capacity} people.\"\n"
   ]
  },
  {
   "cell_type": "code",
   "execution_count": 12,
   "id": "4077354e",
   "metadata": {},
   "outputs": [],
   "source": [
    "obj_child_class = child_class('thar',200,40)"
   ]
  },
  {
   "cell_type": "code",
   "execution_count": 15,
   "id": "7e9c2a6f",
   "metadata": {},
   "outputs": [
    {
     "data": {
      "text/plain": [
       "'thar has a seating capacity of 5 people.'"
      ]
     },
     "execution_count": 15,
     "metadata": {},
     "output_type": "execute_result"
    }
   ],
   "source": [
    "obj_child_class.seating_capacity(5)"
   ]
  },
  {
   "cell_type": "code",
   "execution_count": 17,
   "id": "a73e2c03",
   "metadata": {},
   "outputs": [],
   "source": [
    "#QUESTION 3\n",
    "\"\"\"Multiple inheritance in Python refers to the ability of a class to inherit attributes and methods from\n",
    "multiple parent classes. In other words, a class can inherit from more than one base class, allowing it to\n",
    "combine and reuse functionalities from different sources.\"\"\"\n",
    "class class1:\n",
    "    def test_class1(self):\n",
    "        return 'this is my first class '\n",
    "class class2:\n",
    "    def test_class2(self):\n",
    "        return 'this is my second class '\n",
    "class class3(class1,class2):\n",
    "    pass"
   ]
  },
  {
   "cell_type": "code",
   "execution_count": 19,
   "id": "c235844f",
   "metadata": {},
   "outputs": [],
   "source": [
    "obj_class3= class3()"
   ]
  },
  {
   "cell_type": "code",
   "execution_count": 20,
   "id": "5662048c",
   "metadata": {},
   "outputs": [
    {
     "data": {
      "text/plain": [
       "'this is my second class '"
      ]
     },
     "execution_count": 20,
     "metadata": {},
     "output_type": "execute_result"
    }
   ],
   "source": [
    "obj_class3.test_class2()"
   ]
  },
  {
   "cell_type": "code",
   "execution_count": 21,
   "id": "a0e0125c",
   "metadata": {},
   "outputs": [
    {
     "data": {
      "text/plain": [
       "'this is my first class '"
      ]
     },
     "execution_count": 21,
     "metadata": {},
     "output_type": "execute_result"
    }
   ],
   "source": [
    "obj_class3.test_class1()"
   ]
  },
  {
   "cell_type": "code",
   "execution_count": 22,
   "id": "866bb154",
   "metadata": {},
   "outputs": [],
   "source": [
    "#QUESTION 4\n",
    "'''In Python, getters and setters are methods used to access and modify the values of private instance variab\n",
    "les of a class. They provide a way to encapsulate the access and modification of class attributes, allowing\n",
    "for better control over the data.\n",
    "\n",
    "Getters are methods used to retrieve the values of private instance variables. They typically have the \n",
    "prefix \"get\" followed by the name of the attribute they are retrieving. Getters are used to provide\n",
    "controlled access to private attributes by returning their values.\n",
    "\n",
    "Setters, on the other hand, are methods used to modify the values of private instance variables. They\n",
    "typically have the prefix \"set\" followed by the name of the attribute they are modifying. Setters are used\n",
    "to provide controlled modification of private attributes by accepting new values as parameters and \n",
    "assigning them to the corresponding attribute.\n",
    "\n",
    "Here's an example to illustrate the concept of getters and setters in Python:'''\n",
    "class bank_account:\n",
    "    def __init__(self,balance):\n",
    "        self.__balance= balance\n",
    "        \n",
    "    def deposit(self,amount):\n",
    "        self.__balance= self.__balance + amount \n",
    "        \n",
    "    def withdraw(self,amount):\n",
    "        if self.__balance >= amount:\n",
    "            self.__balance = self.__balance - amount \n",
    "            return True \n",
    "        else :\n",
    "            return False \n",
    "    def get_balance(self):\n",
    "            return self.__balance   "
   ]
  },
  {
   "cell_type": "code",
   "execution_count": 23,
   "id": "9c0ab86c",
   "metadata": {},
   "outputs": [],
   "source": [
    "teena = bank_account(1000)"
   ]
  },
  {
   "cell_type": "code",
   "execution_count": 24,
   "id": "658819e2",
   "metadata": {},
   "outputs": [
    {
     "data": {
      "text/plain": [
       "1000"
      ]
     },
     "execution_count": 24,
     "metadata": {},
     "output_type": "execute_result"
    }
   ],
   "source": [
    "teena.get_balance()"
   ]
  },
  {
   "cell_type": "code",
   "execution_count": 25,
   "id": "fefae4ef",
   "metadata": {},
   "outputs": [],
   "source": [
    "teena.deposit(2000)"
   ]
  },
  {
   "cell_type": "code",
   "execution_count": 26,
   "id": "24aa50af",
   "metadata": {},
   "outputs": [
    {
     "data": {
      "text/plain": [
       "3000"
      ]
     },
     "execution_count": 26,
     "metadata": {},
     "output_type": "execute_result"
    }
   ],
   "source": [
    "teena.get_balance()"
   ]
  },
  {
   "cell_type": "code",
   "execution_count": 34,
   "id": "478cf2fa",
   "metadata": {},
   "outputs": [
    {
     "data": {
      "text/plain": [
       "'This is a car.'"
      ]
     },
     "execution_count": 34,
     "metadata": {},
     "output_type": "execute_result"
    }
   ],
   "source": [
    "# QUESTION 5\n",
    "\"\"\"Method overriding in Python occurs when a subclass provides its own implementation of a method that is\n",
    "already defined in its parent class. The overriding method in the subclass has the same name, parameters, \n",
    "and return type as the method in the parent class, but it provides a different implementation.\"\"\"\n",
    "\n",
    "class Vehicle:\n",
    "    def display_info(self):\n",
    "        return \"This is a vehicle.\"\n",
    "\n",
    "class Car(Vehicle):\n",
    "    def display_info(self):\n",
    "        return \"This is a car.\"\n",
    "\n",
    "vehicle = Vehicle()\n",
    "vehicle.display_info() # Output: This is a vehicle.\n",
    "\n",
    "car = Car()\n",
    "car.display_info()  # Output: This is a car."
   ]
  },
  {
   "cell_type": "code",
   "execution_count": null,
   "id": "6dbe6130",
   "metadata": {},
   "outputs": [],
   "source": []
  }
 ],
 "metadata": {
  "kernelspec": {
   "display_name": "Python 3 (ipykernel)",
   "language": "python",
   "name": "python3"
  },
  "language_info": {
   "codemirror_mode": {
    "name": "ipython",
    "version": 3
   },
   "file_extension": ".py",
   "mimetype": "text/x-python",
   "name": "python",
   "nbconvert_exporter": "python",
   "pygments_lexer": "ipython3",
   "version": "3.11.2"
  }
 },
 "nbformat": 4,
 "nbformat_minor": 5
}
