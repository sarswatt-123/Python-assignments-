{
 "cells": [
  {
   "cell_type": "code",
   "execution_count": null,
   "id": "d04ec2ef",
   "metadata": {},
   "outputs": [],
   "source": [
    "# QUESTION 1.\n",
    "# Ans- Comments in python are identified with a hash symbol#, and extend to the end of the line.\n",
    "# There are three types of comments in python : single line comment ,multi line comment and docstring"
   ]
  },
  {
   "cell_type": "code",
   "execution_count": 2,
   "id": "e12b3d6f",
   "metadata": {},
   "outputs": [
    {
     "data": {
      "text/plain": [
       "'Types of variable :\\nint,float,string,boolean,complex,list'"
      ]
     },
     "execution_count": 2,
     "metadata": {},
     "output_type": "execute_result"
    }
   ],
   "source": [
    "# QUESTION 2.\n",
    "# Variables are nothing but reserevd memory locations to store certain values.\n",
    "a=4 # here a is a variable \n",
    "'''Types of variable :\n",
    "int,float,string,boolean,complex,list'''"
   ]
  },
  {
   "cell_type": "code",
   "execution_count": 3,
   "id": "c51ac4b5",
   "metadata": {},
   "outputs": [],
   "source": [
    "# QUESTION 3. How do you convert one data type to another "
   ]
  },
  {
   "cell_type": "code",
   "execution_count": 1,
   "id": "fcce112f",
   "metadata": {},
   "outputs": [],
   "source": [
    "a=45.67"
   ]
  },
  {
   "cell_type": "code",
   "execution_count": 5,
   "id": "2d3bb63d",
   "metadata": {},
   "outputs": [
    {
     "name": "stdout",
     "output_type": "stream",
     "text": [
      "45\n"
     ]
    }
   ],
   "source": [
    "print(int(a))  # here a is a floating variable and we can change into integer "
   ]
  },
  {
   "cell_type": "code",
   "execution_count": 6,
   "id": "45bdcabe",
   "metadata": {},
   "outputs": [],
   "source": [
    "#Question 5."
   ]
  },
  {
   "cell_type": "code",
   "execution_count": 7,
   "id": "27265644",
   "metadata": {},
   "outputs": [],
   "source": [
    "my_list=[1,2,3,4,5]"
   ]
  },
  {
   "cell_type": "code",
   "execution_count": 8,
   "id": "469e493c",
   "metadata": {},
   "outputs": [
    {
     "data": {
      "text/plain": [
       "[2, 3]"
      ]
     },
     "execution_count": 8,
     "metadata": {},
     "output_type": "execute_result"
    }
   ],
   "source": [
    "my_list[1:3:1]"
   ]
  },
  {
   "cell_type": "code",
   "execution_count": 10,
   "id": "2e944f61",
   "metadata": {},
   "outputs": [],
   "source": [
    "# QUESTION 6."
   ]
  },
  {
   "cell_type": "code",
   "execution_count": 11,
   "id": "3bfb88ab",
   "metadata": {},
   "outputs": [],
   "source": [
    "# Those number which can represented in the form of (a+ib) are called complex number."
   ]
  },
  {
   "cell_type": "code",
   "execution_count": 12,
   "id": "1640f55d",
   "metadata": {},
   "outputs": [],
   "source": [
    "a=45+87j  # here a is a complex variable "
   ]
  },
  {
   "cell_type": "code",
   "execution_count": 13,
   "id": "ede22505",
   "metadata": {},
   "outputs": [
    {
     "name": "stdout",
     "output_type": "stream",
     "text": [
      "<class 'complex'>\n"
     ]
    }
   ],
   "source": [
    "print(type(a))"
   ]
  },
  {
   "cell_type": "code",
   "execution_count": 14,
   "id": "53a2fb35",
   "metadata": {},
   "outputs": [],
   "source": [
    "# QUESTION 7."
   ]
  },
  {
   "cell_type": "code",
   "execution_count": 15,
   "id": "ceb58075",
   "metadata": {},
   "outputs": [],
   "source": [
    "age=25"
   ]
  },
  {
   "cell_type": "code",
   "execution_count": 17,
   "id": "1630281c",
   "metadata": {},
   "outputs": [
    {
     "data": {
      "text/plain": [
       "25"
      ]
     },
     "execution_count": 17,
     "metadata": {},
     "output_type": "execute_result"
    }
   ],
   "source": [
    "age"
   ]
  },
  {
   "cell_type": "code",
   "execution_count": 18,
   "id": "66ee03d4",
   "metadata": {},
   "outputs": [],
   "source": [
    "# QUESTION .8"
   ]
  },
  {
   "cell_type": "code",
   "execution_count": 19,
   "id": "dc031eee",
   "metadata": {},
   "outputs": [],
   "source": [
    "price=9.99   # here price is a floating variable"
   ]
  },
  {
   "cell_type": "code",
   "execution_count": 20,
   "id": "10b24d8e",
   "metadata": {},
   "outputs": [
    {
     "name": "stdout",
     "output_type": "stream",
     "text": [
      "<class 'float'>\n"
     ]
    }
   ],
   "source": [
    "print(type(price))"
   ]
  },
  {
   "cell_type": "code",
   "execution_count": 21,
   "id": "bcf76bbe",
   "metadata": {},
   "outputs": [],
   "source": [
    "# QUESTION.9"
   ]
  },
  {
   "cell_type": "code",
   "execution_count": 22,
   "id": "85f760b5",
   "metadata": {},
   "outputs": [],
   "source": [
    "name=\"Teena Saraswat\""
   ]
  },
  {
   "cell_type": "code",
   "execution_count": 23,
   "id": "4268d8b2",
   "metadata": {},
   "outputs": [
    {
     "name": "stdout",
     "output_type": "stream",
     "text": [
      "Teena Saraswat\n"
     ]
    }
   ],
   "source": [
    "print(name)"
   ]
  },
  {
   "cell_type": "code",
   "execution_count": 24,
   "id": "dbab4c8e",
   "metadata": {},
   "outputs": [],
   "source": [
    "# QUESTION .10"
   ]
  },
  {
   "cell_type": "code",
   "execution_count": 25,
   "id": "09ab44b3",
   "metadata": {},
   "outputs": [],
   "source": [
    "my_string=\" Hello,World!\""
   ]
  },
  {
   "cell_type": "code",
   "execution_count": 29,
   "id": "0eb539b3",
   "metadata": {},
   "outputs": [
    {
     "data": {
      "text/plain": [
       "'World'"
      ]
     },
     "execution_count": 29,
     "metadata": {},
     "output_type": "execute_result"
    }
   ],
   "source": [
    "my_string[7:12:1]"
   ]
  },
  {
   "cell_type": "code",
   "execution_count": 30,
   "id": "63bd79dc",
   "metadata": {},
   "outputs": [],
   "source": [
    "# QUESTION.11"
   ]
  },
  {
   "cell_type": "code",
   "execution_count": 40,
   "id": "e8b6b3cd",
   "metadata": {},
   "outputs": [],
   "source": [
    "is_student=True\n"
   ]
  },
  {
   "cell_type": "code",
   "execution_count": 2,
   "id": "c9a13d83",
   "metadata": {},
   "outputs": [],
   "source": [
    "# QUESTION 4 "
   ]
  },
  {
   "cell_type": "code",
   "execution_count": null,
   "id": "b4e2c570",
   "metadata": {},
   "outputs": [],
   "source": [
    "#You need to open a command line and type the word python followed by the path to your script file like this:\n",
    "#python first_script.py Hello World! Then you hit the ENTER button from the keyboard, and that's it."
   ]
  },
  {
   "cell_type": "code",
   "execution_count": null,
   "id": "9cbc394a",
   "metadata": {},
   "outputs": [],
   "source": []
  },
  {
   "cell_type": "code",
   "execution_count": null,
   "id": "21229112",
   "metadata": {},
   "outputs": [],
   "source": []
  },
  {
   "cell_type": "code",
   "execution_count": null,
   "id": "bcf665b5",
   "metadata": {},
   "outputs": [],
   "source": []
  },
  {
   "cell_type": "code",
   "execution_count": null,
   "id": "a5a693db",
   "metadata": {},
   "outputs": [],
   "source": []
  },
  {
   "cell_type": "code",
   "execution_count": null,
   "id": "772981df",
   "metadata": {},
   "outputs": [],
   "source": []
  },
  {
   "cell_type": "code",
   "execution_count": null,
   "id": "3a8afaf9",
   "metadata": {},
   "outputs": [],
   "source": []
  },
  {
   "cell_type": "code",
   "execution_count": null,
   "id": "96bf2469",
   "metadata": {},
   "outputs": [],
   "source": []
  },
  {
   "cell_type": "code",
   "execution_count": null,
   "id": "0eb3299f",
   "metadata": {},
   "outputs": [],
   "source": []
  },
  {
   "cell_type": "code",
   "execution_count": null,
   "id": "9b273250",
   "metadata": {},
   "outputs": [],
   "source": []
  },
  {
   "cell_type": "code",
   "execution_count": null,
   "id": "aae4e6b4",
   "metadata": {},
   "outputs": [],
   "source": []
  },
  {
   "cell_type": "code",
   "execution_count": null,
   "id": "ebbfa7c0",
   "metadata": {},
   "outputs": [],
   "source": []
  },
  {
   "cell_type": "code",
   "execution_count": null,
   "id": "638385b2",
   "metadata": {},
   "outputs": [],
   "source": []
  },
  {
   "cell_type": "code",
   "execution_count": null,
   "id": "1aa950fa",
   "metadata": {},
   "outputs": [],
   "source": []
  },
  {
   "cell_type": "code",
   "execution_count": null,
   "id": "9424bfdd",
   "metadata": {},
   "outputs": [],
   "source": []
  },
  {
   "cell_type": "code",
   "execution_count": null,
   "id": "783daf35",
   "metadata": {},
   "outputs": [],
   "source": []
  },
  {
   "cell_type": "code",
   "execution_count": null,
   "id": "5a5ba5d5",
   "metadata": {},
   "outputs": [],
   "source": []
  },
  {
   "cell_type": "code",
   "execution_count": null,
   "id": "17c04ae1",
   "metadata": {},
   "outputs": [],
   "source": []
  }
 ],
 "metadata": {
  "kernelspec": {
   "display_name": "Python 3 (ipykernel)",
   "language": "python",
   "name": "python3"
  },
  "language_info": {
   "codemirror_mode": {
    "name": "ipython",
    "version": 3
   },
   "file_extension": ".py",
   "mimetype": "text/x-python",
   "name": "python",
   "nbconvert_exporter": "python",
   "pygments_lexer": "ipython3",
   "version": "3.11.2"
  }
 },
 "nbformat": 4,
 "nbformat_minor": 5
}
