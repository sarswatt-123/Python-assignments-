{
 "cells": [
  {
   "cell_type": "code",
   "execution_count": 4,
   "id": "c3cd8795",
   "metadata": {},
   "outputs": [],
   "source": [
    "# QUESTION 1\n",
    "s=[\"Teena\",45.6,(1)]"
   ]
  },
  {
   "cell_type": "code",
   "execution_count": 5,
   "id": "990d50a8",
   "metadata": {},
   "outputs": [
    {
     "data": {
      "text/plain": [
       "str"
      ]
     },
     "execution_count": 5,
     "metadata": {},
     "output_type": "execute_result"
    }
   ],
   "source": [
    "#QUESTION 2 \n",
    "var1=''\n",
    "type(var1)"
   ]
  },
  {
   "cell_type": "code",
   "execution_count": 6,
   "id": "c6dc5494",
   "metadata": {},
   "outputs": [
    {
     "data": {
      "text/plain": [
       "str"
      ]
     },
     "execution_count": 6,
     "metadata": {},
     "output_type": "execute_result"
    }
   ],
   "source": [
    "var2='[DS,ML,Python]'\n",
    "type(var2)"
   ]
  },
  {
   "cell_type": "code",
   "execution_count": 7,
   "id": "99c5f99f",
   "metadata": {},
   "outputs": [
    {
     "data": {
      "text/plain": [
       "list"
      ]
     },
     "execution_count": 7,
     "metadata": {},
     "output_type": "execute_result"
    }
   ],
   "source": [
    "var3=['DS','ML','Python']\n",
    "type(var3)"
   ]
  },
  {
   "cell_type": "code",
   "execution_count": 8,
   "id": "88eedb5b",
   "metadata": {},
   "outputs": [
    {
     "data": {
      "text/plain": [
       "int"
      ]
     },
     "execution_count": 8,
     "metadata": {},
     "output_type": "execute_result"
    }
   ],
   "source": [
    "var4=1\n",
    "type(var4)"
   ]
  },
  {
   "cell_type": "code",
   "execution_count": 11,
   "id": "b0937f83",
   "metadata": {},
   "outputs": [],
   "source": [
    "#QUESTION 3"
   ]
  },
  {
   "cell_type": "markdown",
   "id": "44b76a47",
   "metadata": {},
   "source": []
  },
  {
   "cell_type": "code",
   "execution_count": 12,
   "id": "6e31a7f9",
   "metadata": {},
   "outputs": [],
   "source": [
    "a=4/3 # it gives the quotient"
   ]
  },
  {
   "cell_type": "code",
   "execution_count": 13,
   "id": "14f948ad",
   "metadata": {},
   "outputs": [
    {
     "data": {
      "text/plain": [
       "1.3333333333333333"
      ]
     },
     "execution_count": 13,
     "metadata": {},
     "output_type": "execute_result"
    }
   ],
   "source": [
    "a"
   ]
  },
  {
   "cell_type": "code",
   "execution_count": 15,
   "id": "688781e9",
   "metadata": {},
   "outputs": [],
   "source": [
    "b=4%3 # it is the modulus operator which gives the remainder "
   ]
  },
  {
   "cell_type": "code",
   "execution_count": null,
   "id": "3e47e008",
   "metadata": {},
   "outputs": [],
   "source": [
    "b"
   ]
  },
  {
   "cell_type": "markdown",
   "id": "8b4b7fb7",
   "metadata": {},
   "source": []
  },
  {
   "cell_type": "code",
   "execution_count": 17,
   "id": "064b1de4",
   "metadata": {},
   "outputs": [],
   "source": [
    "c=2//3"
   ]
  },
  {
   "cell_type": "code",
   "execution_count": 18,
   "id": "79a58b00",
   "metadata": {},
   "outputs": [
    {
     "data": {
      "text/plain": [
       "0"
      ]
     },
     "execution_count": 18,
     "metadata": {},
     "output_type": "execute_result"
    }
   ],
   "source": [
    "c"
   ]
  },
  {
   "cell_type": "code",
   "execution_count": 19,
   "id": "f4b5b172",
   "metadata": {},
   "outputs": [],
   "source": [
    "d=2**4 # it is the exponent operator which means 2 to the power 4"
   ]
  },
  {
   "cell_type": "code",
   "execution_count": 20,
   "id": "35780ddf",
   "metadata": {},
   "outputs": [
    {
     "data": {
      "text/plain": [
       "16"
      ]
     },
     "execution_count": 20,
     "metadata": {},
     "output_type": "execute_result"
    }
   ],
   "source": [
    "d"
   ]
  },
  {
   "cell_type": "code",
   "execution_count": 25,
   "id": "29e3f3ca",
   "metadata": {},
   "outputs": [
    {
     "name": "stdout",
     "output_type": "stream",
     "text": [
      "<class 'int'>\n",
      "1\n",
      "<class 'int'>\n",
      "2\n",
      "<class 'int'>\n",
      "3\n",
      "<class 'int'>\n",
      "45\n",
      "<class 'str'>\n",
      "teena\n",
      "<class 'complex'>\n",
      "(34+45j)\n",
      "<class 'bool'>\n",
      "True\n",
      "<class 'bool'>\n",
      "False\n",
      "<class 'int'>\n",
      "23\n",
      "<class 'float'>\n",
      "45.78\n"
     ]
    }
   ],
   "source": [
    "#QUESTION-4\n",
    "\n",
    "l=[1,2,3,45,\"teena\",34+45j,True,False, 23,45.78,]\n",
    "for i in l:\n",
    "    print(type(i))\n",
    "    print(i)\n",
    "    "
   ]
  },
  {
   "cell_type": "code",
   "execution_count": null,
   "id": "38886134",
   "metadata": {},
   "outputs": [],
   "source": [
    "\n"
   ]
  },
  {
   "cell_type": "code",
   "execution_count": 8,
   "id": "c18c53f4",
   "metadata": {},
   "outputs": [
    {
     "name": "stdout",
     "output_type": "stream",
     "text": [
      "3\n",
      "2\n"
     ]
    }
   ],
   "source": [
    "#Question-5\n",
    "\n",
    "a=int(input())\n",
    "b=int(input())\n",
    "\n",
    "if a%b==0:\n",
    "    print(a/b)\n",
    "    \n",
    "        \n",
    "     \n",
    "    "
   ]
  },
  {
   "cell_type": "code",
   "execution_count": 9,
   "id": "6fa9e72b",
   "metadata": {},
   "outputs": [
    {
     "name": "stdout",
     "output_type": "stream",
     "text": [
      "0\n",
      "3\n",
      "6\n",
      "9\n",
      "12\n",
      "15\n",
      "18\n",
      "21\n",
      "24\n"
     ]
    }
   ],
   "source": [
    "#QUESTION -6\n",
    "\n",
    "l=[0,1,2,3,4,5,6,7,8,9,10,11,12,13,14,15,16,17,18,19,20,21,22,23,24,25]\n",
    "for i in l:\n",
    "    if i%3==0:\n",
    "        print(i)\n",
    "        i=i+1"
   ]
  },
  {
   "cell_type": "code",
   "execution_count": 12,
   "id": "9f2cd6f4",
   "metadata": {},
   "outputs": [],
   "source": [
    "#QUESTION-7\n",
    "# MUTABLE OBJECTS- An objects that allows you to change its value without changing its identity is a mutable object.\n",
    "#IMMUTABLE OBJECTS- An objects doesn't allows changes in its value is an immutable object \n",
    "\n",
    "l=[2,4,5,6,\"teena\"]\n",
    "l[3]= \"riya\"\n",
    "\n",
    "\n",
    "\n",
    "\n"
   ]
  },
  {
   "cell_type": "code",
   "execution_count": 13,
   "id": "00db0387",
   "metadata": {},
   "outputs": [
    {
     "data": {
      "text/plain": [
       "[2, 4, 5, 'riya', 'teena']"
      ]
     },
     "execution_count": 13,
     "metadata": {},
     "output_type": "execute_result"
    }
   ],
   "source": [
    "l # lsit is an mutable obeject"
   ]
  },
  {
   "cell_type": "code",
   "execution_count": 14,
   "id": "e9324324",
   "metadata": {},
   "outputs": [
    {
     "data": {
      "text/plain": [
       "'TEENA'"
      ]
     },
     "execution_count": 14,
     "metadata": {},
     "output_type": "execute_result"
    }
   ],
   "source": [
    "s =\"TEENA\"\n",
    "s"
   ]
  },
  {
   "cell_type": "code",
   "execution_count": 15,
   "id": "be3310be",
   "metadata": {},
   "outputs": [
    {
     "ename": "TypeError",
     "evalue": "'str' object does not support item assignment",
     "output_type": "error",
     "traceback": [
      "\u001b[1;31m---------------------------------------------------------------------------\u001b[0m",
      "\u001b[1;31mTypeError\u001b[0m                                 Traceback (most recent call last)",
      "Cell \u001b[1;32mIn[15], line 1\u001b[0m\n\u001b[1;32m----> 1\u001b[0m \u001b[43ms\u001b[49m\u001b[43m[\u001b[49m\u001b[38;5;241;43m3\u001b[39;49m\u001b[43m]\u001b[49m\u001b[38;5;241m=\u001b[39m\u001b[38;5;124m\"\u001b[39m\u001b[38;5;124ms\u001b[39m\u001b[38;5;124m\"\u001b[39m\n",
      "\u001b[1;31mTypeError\u001b[0m: 'str' object does not support item assignment"
     ]
    }
   ],
   "source": [
    "s[3]=\"s\"# string is an immutable object"
   ]
  },
  {
   "cell_type": "code",
   "execution_count": null,
   "id": "a64d5eac",
   "metadata": {},
   "outputs": [],
   "source": []
  },
  {
   "cell_type": "code",
   "execution_count": null,
   "id": "b069e39d",
   "metadata": {},
   "outputs": [],
   "source": []
  }
 ],
 "metadata": {
  "kernelspec": {
   "display_name": "Python 3 (ipykernel)",
   "language": "python",
   "name": "python3"
  },
  "language_info": {
   "codemirror_mode": {
    "name": "ipython",
    "version": 3
   },
   "file_extension": ".py",
   "mimetype": "text/x-python",
   "name": "python",
   "nbconvert_exporter": "python",
   "pygments_lexer": "ipython3",
   "version": "3.11.2"
  }
 },
 "nbformat": 4,
 "nbformat_minor": 5
}
