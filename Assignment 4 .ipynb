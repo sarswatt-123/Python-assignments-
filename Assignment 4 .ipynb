{
 "cells": [
  {
   "cell_type": "code",
   "execution_count": 24,
   "id": "f459746d",
   "metadata": {},
   "outputs": [
    {
     "name": "stdout",
     "output_type": "stream",
     "text": [
      "[1, 3, 5, 7, 9, 11, 13, 15, 17, 19, 21, 23, 25]\n"
     ]
    }
   ],
   "source": [
    "# QUESTION 1 \n",
    "# def key word is used to create a function \n",
    "def get_odd_numbers():\n",
    "    odd_numbers = []\n",
    "    for number in range(1, 26):\n",
    "        if number % 2 != 0:\n",
    "            odd_numbers.append(number)\n",
    "    return odd_numbers\n",
    "\n",
    "# Call the function and print the result\n",
    "print(get_odd_numbers())\n"
   ]
  },
  {
   "cell_type": "code",
   "execution_count": 30,
   "id": "2810468b",
   "metadata": {},
   "outputs": [
    {
     "name": "stdout",
     "output_type": "stream",
     "text": [
      "6\n",
      "30\n"
     ]
    }
   ],
   "source": [
    " # Question 2\n",
    "# *args are used in function to pass multiple arguments in any funtion \n",
    " # *kwargs are used in funtion to convert the output in as a dictionary format\n",
    " def  sum_numbers(*args):\n",
    "    total = 0\n",
    "    for num in args:\n",
    "        total += num\n",
    "    return total\n",
    "\n",
    "print(sum_numbers(1, 2, 3))  # Output: 6\n",
    "print(sum_numbers(4, 5, 6, 7, 8))  # Output: 30\n"
   ]
  },
  {
   "cell_type": "code",
   "execution_count": 31,
   "id": "b57d9390",
   "metadata": {},
   "outputs": [
    {
     "name": "stdout",
     "output_type": "stream",
     "text": [
      "name: John\n",
      "age: 30\n",
      "city: New York\n"
     ]
    }
   ],
   "source": [
    "def print_info(**kwargs):\n",
    "    for key, value in kwargs.items():\n",
    "        print(f\"{key}: {value}\")\n",
    "\n",
    "print_info(name=\"John\", age=30, city=\"New York\")\n"
   ]
  },
  {
   "cell_type": "code",
   "execution_count": 33,
   "id": "cbeaf6ae",
   "metadata": {},
   "outputs": [
    {
     "data": {
      "text/plain": [
       "'\"In Python, an iterator is an object that implements the iterator protocol, which consists of the __iter__() and __next__() methods.\\n\\nThe __iter__() method is used to initialize the iterator object and returns the iterator itself. It is called when you create an iterator object or use it in a loop.\\nThe __next__() method is used to retrieve the next element from the iterator. It returns the next item in the sequence and advances the iterator.'"
      ]
     },
     "execution_count": 33,
     "metadata": {},
     "output_type": "execute_result"
    }
   ],
   "source": [
    "# QUESTION 3 \n",
    "\"\"\"\"In Python, an iterator is an object that implements the iterator protocol, which consists of the __iter__() and __next__() methods.\n",
    "\n",
    "The __iter__() method is used to initialize the iterator object and returns the iterator itself. It is called when you create an iterator object or use it in a loop.\n",
    "The __next__() method is used to retrieve the next element from the iterator. It returns the next item in the sequence and advances the iterator.\"\"\""
   ]
  },
  {
   "cell_type": "code",
   "execution_count": 34,
   "id": "879b493c",
   "metadata": {},
   "outputs": [
    {
     "name": "stdout",
     "output_type": "stream",
     "text": [
      "2\n",
      "4\n",
      "6\n",
      "8\n",
      "10\n"
     ]
    }
   ],
   "source": [
    "my_list = [2, 4, 6, 8, 10, 12, 14, 16, 18, 20]\n",
    "\n",
    "# Create an iterator object\n",
    "my_iterator = iter(my_list)\n",
    "\n",
    "# Iterate and print the first five elements\n",
    "for _ in range(5):\n",
    "    element = next(my_iterator)\n",
    "    print(element)\n"
   ]
  },
  {
   "cell_type": "code",
   "execution_count": 35,
   "id": "51dfae0f",
   "metadata": {},
   "outputs": [
    {
     "data": {
      "text/plain": [
       "'\"In Python, a generator function is a special type of function that returns an iterator. It uses the yield keyword instead of the return keyword to generate a series of values one at a time, rather than returning all the values at once. The generator function remembers its state between successive calls, allowing it to produce the next value in the sequence each time it is called.\\n\\nThe yield keyword is used in a generator function to indicate the points at which the function should pause and yield a value to the caller. The state of the generator function is saved, allowing it to resume execution from where it left off when the next value is requested'"
      ]
     },
     "execution_count": 35,
     "metadata": {},
     "output_type": "execute_result"
    }
   ],
   "source": [
    "# QUESTION 4 \n",
    "\"\"\"\"In Python, a generator function is a special type of function that returns an iterator. It uses the yield keyword instead of the return keyword to generate a series of values one at a time, rather than returning all the values at once. The generator function remembers its state between successive calls, allowing it to produce the next value in the sequence each time it is called.\n",
    "\n",
    "The yield keyword is used in a generator function to indicate the points at which the function should pause and yield a value to the caller. The state of the generator function is saved, allowing it to resume execution from where it left off when the next value is requested\"\"\""
   ]
  },
  {
   "cell_type": "code",
   "execution_count": 36,
   "id": "30f90093",
   "metadata": {},
   "outputs": [
    {
     "name": "stdout",
     "output_type": "stream",
     "text": [
      "0\n",
      "1\n",
      "1\n",
      "2\n",
      "3\n",
      "5\n",
      "8\n",
      "13\n",
      "21\n",
      "34\n"
     ]
    }
   ],
   "source": [
    "def fibonacci_generator():\n",
    "    a, b = 0, 1\n",
    "    while True:\n",
    "        yield a\n",
    "        a, b = b, a + b\n",
    "\n",
    "# Create a generator object\n",
    "fib_gen = fibonacci_generator()\n",
    "\n",
    "# Print the first 10 Fibonacci numbers\n",
    "for _ in range(10):\n",
    "    fib_num = next(fib_gen)\n",
    "    print(fib_num)\n"
   ]
  },
  {
   "cell_type": "code",
   "execution_count": 39,
   "id": "1ee20442",
   "metadata": {},
   "outputs": [],
   "source": [
    "# QUESTION 5\n",
    "def prime_generator():\n",
    "    # Initial prime numbers\n",
    "    primes = [2, 3, 5, 7]\n",
    "    yield from primes\n",
    "\n",
    "    # Generate prime numbers\n",
    "    num = 11\n",
    "    while num < 1000:\n",
    "        is_prime = True\n",
    "        for prime in primes:\n",
    "            if num % prime == 0:\n",
    "                is_prime = False\n",
    "                break\n",
    "        if is_prime:\n",
    "            primes.append(num)\n",
    "            yield num\n",
    "        num += 2\n"
   ]
  },
  {
   "cell_type": "code",
   "execution_count": 40,
   "id": "9a35511a",
   "metadata": {},
   "outputs": [
    {
     "name": "stdout",
     "output_type": "stream",
     "text": [
      "2\n",
      "3\n",
      "5\n",
      "7\n",
      "11\n",
      "13\n",
      "17\n",
      "19\n",
      "23\n",
      "29\n",
      "31\n",
      "37\n",
      "41\n",
      "43\n",
      "47\n",
      "53\n",
      "59\n",
      "61\n",
      "67\n",
      "71\n"
     ]
    }
   ],
   "source": [
    "prime_gen = prime_generator()\n",
    "\n",
    "for _ in range(20):\n",
    "    prime_num = next(prime_gen)\n",
    "    print(prime_num)\n"
   ]
  },
  {
   "cell_type": "code",
   "execution_count": 41,
   "id": "108a021c",
   "metadata": {},
   "outputs": [],
   "source": [
    "# QUESTION 6\n",
    "def fibonacci():\n",
    "    a,b= 0,1\n",
    "    while True:\n",
    "        yield a \n",
    "        a,b=b,a+b"
   ]
  },
  {
   "cell_type": "code",
   "execution_count": 52,
   "id": "af66bc10",
   "metadata": {},
   "outputs": [],
   "source": [
    " fib=fibonacci(10)"
   ]
  },
  {
   "cell_type": "code",
   "execution_count": 53,
   "id": "22af9725",
   "metadata": {},
   "outputs": [
    {
     "name": "stdout",
     "output_type": "stream",
     "text": [
      "0\n",
      "1\n",
      "1\n",
      "2\n",
      "3\n",
      "5\n",
      "8\n",
      "13\n",
      "21\n",
      "34\n"
     ]
    }
   ],
   "source": [
    "for i in range(10):\n",
    "    print(next(fib))"
   ]
  },
  {
   "cell_type": "code",
   "execution_count": 54,
   "id": "8179bde1",
   "metadata": {},
   "outputs": [
    {
     "name": "stdout",
     "output_type": "stream",
     "text": [
      "['p', 'w', 's', 'k', 'i', 'l', 'l', 's']\n"
     ]
    }
   ],
   "source": [
    "# QUESTION 7 \n",
    "string = 'pwskills'\n",
    "output_list = [char for char in string]\n",
    "print(output_list)\n"
   ]
  },
  {
   "cell_type": "code",
   "execution_count": 55,
   "id": "a183f129",
   "metadata": {},
   "outputs": [
    {
     "name": "stdout",
     "output_type": "stream",
     "text": [
      "Enter a number: 343\n",
      "343 is a palindrome.\n"
     ]
    }
   ],
   "source": [
    "# QUESTION 8 \n",
    "def is_palindrome(number):\n",
    "    original_number = number\n",
    "    reverse_number = 0\n",
    "\n",
    "    while number > 0:\n",
    "        remainder = number % 10\n",
    "        reverse_number = (reverse_number * 10) + remainder\n",
    "        number = number // 10\n",
    "\n",
    "    if original_number == reverse_number:\n",
    "        return True\n",
    "    else:\n",
    "        return False\n",
    "\n",
    "# Test the function\n",
    "num = int(input(\"Enter a number: \"))\n",
    "\n",
    "if is_palindrome(num):\n",
    "    print(f\"{num} is a palindrome.\")\n",
    "else:\n",
    "    print(f\"{num} is not a palindrome.\")\n"
   ]
  },
  {
   "cell_type": "code",
   "execution_count": 56,
   "id": "80fa2013",
   "metadata": {},
   "outputs": [
    {
     "name": "stdout",
     "output_type": "stream",
     "text": [
      "[1, 3, 5, 7, 9, 11, 13, 15, 17, 19, 21, 23, 25, 27, 29, 31, 33, 35, 37, 39, 41, 43, 45, 47, 49, 51, 53, 55, 57, 59, 61, 63, 65, 67, 69, 71, 73, 75, 77, 79, 81, 83, 85, 87, 89, 91, 93, 95, 97, 99]\n"
     ]
    }
   ],
   "source": [
    "#  QUESTION 9 \n",
    "odd_numbers = [num for num in range(1, 101) if num % 2 != 0]\n",
    "print(odd_numbers)\n"
   ]
  },
  {
   "cell_type": "code",
   "execution_count": null,
   "id": "29c6390c",
   "metadata": {},
   "outputs": [],
   "source": []
  }
 ],
 "metadata": {
  "kernelspec": {
   "display_name": "Python 3 (ipykernel)",
   "language": "python",
   "name": "python3"
  },
  "language_info": {
   "codemirror_mode": {
    "name": "ipython",
    "version": 3
   },
   "file_extension": ".py",
   "mimetype": "text/x-python",
   "name": "python",
   "nbconvert_exporter": "python",
   "pygments_lexer": "ipython3",
   "version": "3.11.2"
  }
 },
 "nbformat": 4,
 "nbformat_minor": 5
}
