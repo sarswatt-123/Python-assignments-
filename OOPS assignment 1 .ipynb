{
 "cells": [
  {
   "cell_type": "code",
   "execution_count": 1,
   "id": "f48d377a",
   "metadata": {},
   "outputs": [
    {
     "name": "stdout",
     "output_type": "stream",
     "text": [
      "Toyota\n",
      "Camry\n",
      "2020\n",
      "The engine has started.\n",
      "The car is in motion.\n",
      "The engine has stopped.\n"
     ]
    }
   ],
   "source": [
    "# QUESTION 1 \n",
    "\"\"\"In object-oriented programming (OOP), a class is a blueprint or template for creating objects. It define\n",
    "the properties (attributes) and behaviors (methods) that the objects of that class will have. In other \n",
    "words, a class describes the common characteristics and actions that a group of objects share.\"\"\"\n",
    "class Car:\n",
    "    def __init__(self, make, model, year):\n",
    "        self.make = make\n",
    "        self.model = model\n",
    "        self.year = year\n",
    "        self.is_running = False\n",
    "\n",
    "    def start_engine(self):\n",
    "        self.is_running = True\n",
    "        print(\"The engine has started.\")\n",
    "\n",
    "    def stop_engine(self):\n",
    "        self.is_running = False\n",
    "        print(\"The engine has stopped.\")\n",
    "\n",
    "    def drive(self):\n",
    "        if self.is_running:\n",
    "            print(\"The car is in motion.\")\n",
    "        else:\n",
    "            print(\"Please start the engine first.\")\n",
    "\n",
    "# Creating objects (instances) of the Car class\n",
    "car1 = Car(\"Toyota\", \"Camry\", 2020)\n",
    "car2 = Car(\"Tesla\", \"Model S\", 2022)\n",
    "\n",
    "# Accessing attributes of car1\n",
    "print(car1.make)   # Output: Toyota\n",
    "print(car1.model)  # Output: Camry\n",
    "print(car1.year)   # Output: 2020\n",
    "\n",
    "# Invoking methods on car2\n",
    "car2.start_engine()  # Output: The engine has started.\n",
    "car2.drive()         # Output: The car is in motion.\n",
    "car2.stop_engine()   # Output: The engine has stopped."
   ]
  },
  {
   "cell_type": "code",
   "execution_count": 2,
   "id": "0cdecf65",
   "metadata": {},
   "outputs": [
    {
     "data": {
      "text/plain": [
       "'These four pillars of OOP—encapsulation, inheritance, polymorphism, and abstraction—form the foundation\\n of object-oriented programming and help in designing modular, reusable, and maintainable code.'"
      ]
     },
     "execution_count": 2,
     "metadata": {},
     "output_type": "execute_result"
    }
   ],
   "source": [
    "# QUESTION 2 \n",
    "\"\"\"These four pillars of OOP—encapsulation, inheritance, polymorphism, and abstraction—form the foundation\n",
    " of object-oriented programming and help in designing modular, reusable, and maintainable code.\"\"\""
   ]
  },
  {
   "cell_type": "code",
   "execution_count": 4,
   "id": "042e0ce3",
   "metadata": {},
   "outputs": [],
   "source": [
    "# QUESTION 3 \n",
    "'''The __init__() function, also known as the constructor method, is used in object-oriented programming \n",
    "languages, such as Python, to initialize the attributes of an object when it is created from a class. It is\n",
    "automatically called when an object is instantiated from a class and allows you to set the initial state of\n",
    "the object.'''\n",
    "class vehicle:\n",
    "    def __init__(self,year,make,model,speed):\n",
    "        self.year=year\n",
    "        self.make=make\n",
    "        self.model=model\n",
    "        self.speed=speed\n",
    "        \n",
    "    def return_vehicle_details(self):\n",
    "        return self.year,self.make,self.model,self.speed"
   ]
  },
  {
   "cell_type": "code",
   "execution_count": 6,
   "id": "360f84ad",
   "metadata": {},
   "outputs": [],
   "source": [
    "car=vehicle(2004,'toyata','thar',200)"
   ]
  },
  {
   "cell_type": "code",
   "execution_count": 7,
   "id": "033890fa",
   "metadata": {},
   "outputs": [
    {
     "data": {
      "text/plain": [
       "(2004, 'toyata', 'thar', 200)"
      ]
     },
     "execution_count": 7,
     "metadata": {},
     "output_type": "execute_result"
    }
   ],
   "source": [
    "car.return_vehicle_details()"
   ]
  },
  {
   "cell_type": "code",
   "execution_count": 8,
   "id": "936d136e",
   "metadata": {},
   "outputs": [
    {
     "data": {
      "text/plain": [
       "\"In object-oriented programming (OOP), self is a conventional name used to refer to the instance of a\\nclass within its methods. It represents the object itself and allows the methods to access and manipulate\\nthe object's attributes and methods.\""
      ]
     },
     "execution_count": 8,
     "metadata": {},
     "output_type": "execute_result"
    }
   ],
   "source": [
    "#QUESTION 4 \n",
    "'''In object-oriented programming (OOP), self is a conventional name used to refer to the instance of a\n",
    "class within its methods. It represents the object itself and allows the methods to access and manipulate\n",
    "the object's attributes and methods.'''"
   ]
  },
  {
   "cell_type": "code",
   "execution_count": 9,
   "id": "3061de6c",
   "metadata": {},
   "outputs": [
    {
     "name": "stdout",
     "output_type": "stream",
     "text": [
      "Buddy is eating.\n",
      "Woof!\n"
     ]
    }
   ],
   "source": [
    "# QUESTION 5 \n",
    "'''Inheritance is a fundamental concept in object-oriented programming (OOP) that allows the creation of \n",
    "new classes (derived classes) based on existing classes (base or parent classes). It enables code reuse\n",
    "and promotes the \"is-a\" relationship between classes, where a derived class inherits the attributes and\n",
    "methods of the base class.\n",
    "There are several types of inheritance:\n",
    "\n",
    "Single Inheritance: In single inheritance, a derived class inherits from a single base class. It forms a \n",
    "    simple parent-child relationship between the classes. Here's an example:'''\n",
    "\n",
    "class Animal:\n",
    "    def __init__(self, name):\n",
    "        self.name = name\n",
    "\n",
    "    def eat(self):\n",
    "        print(f\"{self.name} is eating.\")\n",
    "\n",
    "class Dog(Animal):\n",
    "    def bark(self):\n",
    "        print(\"Woof!\")\n",
    "\n",
    "dog = Dog(\"Buddy\")\n",
    "dog.eat()  # Output: Buddy is eating.\n",
    "dog.bark() # Output: Woof!"
   ]
  },
  {
   "cell_type": "code",
   "execution_count": 10,
   "id": "7cb1f22d",
   "metadata": {},
   "outputs": [
    {
     "name": "stdout",
     "output_type": "stream",
     "text": [
      "Flying high.\n",
      "Swimming gracefully.\n"
     ]
    }
   ],
   "source": [
    "'''Multiple Inheritance: Multiple inheritance allows a derived class to inherit from multiple base classes. \n",
    "This means that a derived class can have attributes and methods from more than one parent class. \n",
    " Here's an example:'''\n",
    "class Flying:\n",
    "    def fly(self):\n",
    "        print(\"Flying high.\")\n",
    "\n",
    "class Swimming:\n",
    "    def swim(self):\n",
    "        print(\"Swimming gracefully.\")\n",
    "\n",
    "class Duck(Flying, Swimming):\n",
    "    pass\n",
    "\n",
    "duck = Duck()\n",
    "duck.fly()  # Output: Flying high.\n",
    "duck.swim() # Output: Swimming gracefully."
   ]
  },
  {
   "cell_type": "code",
   "execution_count": 11,
   "id": "47f45a6e",
   "metadata": {},
   "outputs": [
    {
     "name": "stdout",
     "output_type": "stream",
     "text": [
      "Driving the Toyota vehicle.\n",
      "Beep beep!\n"
     ]
    }
   ],
   "source": [
    "'''Multilevel Inheritance: Multilevel inheritance involves a chain of inheritance where a derived class \n",
    "inherits from a base class, and then another class inherits from that derived class. Here's an example:'''\n",
    "class Vehicle:\n",
    "    def __init__(self, brand):\n",
    "        self.brand = brand\n",
    "\n",
    "    def drive(self):\n",
    "        print(f\"Driving the {self.brand} vehicle.\")\n",
    "\n",
    "class Car(Vehicle):\n",
    "    def honk(self):\n",
    "        print(\"Beep beep!\")\n",
    "\n",
    "class Sedan(Car):\n",
    "    pass\n",
    "\n",
    "sedan = Sedan(\"Toyota\")\n",
    "sedan.drive() # Output: Driving the Toyota vehicle.\n",
    "sedan.honk()  # Output: Beep beep!"
   ]
  },
  {
   "cell_type": "code",
   "execution_count": null,
   "id": "c5d8cf4e",
   "metadata": {},
   "outputs": [],
   "source": []
  }
 ],
 "metadata": {
  "kernelspec": {
   "display_name": "Python 3 (ipykernel)",
   "language": "python",
   "name": "python3"
  },
  "language_info": {
   "codemirror_mode": {
    "name": "ipython",
    "version": 3
   },
   "file_extension": ".py",
   "mimetype": "text/x-python",
   "name": "python",
   "nbconvert_exporter": "python",
   "pygments_lexer": "ipython3",
   "version": "3.11.2"
  }
 },
 "nbformat": 4,
 "nbformat_minor": 5
}
