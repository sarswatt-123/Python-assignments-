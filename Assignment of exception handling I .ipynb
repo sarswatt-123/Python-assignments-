{
 "cells": [
  {
   "cell_type": "code",
   "execution_count": 2,
   "id": "a2cf2bd0",
   "metadata": {},
   "outputs": [
    {
     "data": {
      "text/plain": [
       "\"Exception in Python: An exception is an event that occurs during the execution of a program that disrupts\\nthe normal flow of instructions. It is a way to handle errors and exceptional situations during runtime.\\n\\nThe main difference is that exceptions occur during program execution and can be caught and handled using \\nexception handling mechanisms, allowing the program to continue running. Syntax errors, on the other hand,\\noccur due to violations of the language's syntax rules and prevent the program from running until the \\nerrors are fixed in the code itself.\""
      ]
     },
     "execution_count": 2,
     "metadata": {},
     "output_type": "execute_result"
    }
   ],
   "source": [
    "# QUESTION 1 \n",
    "'''Exception in Python: An exception is an event that occurs during the execution of a program that disrupts\n",
    "the normal flow of instructions. It is a way to handle errors and exceptional situations during runtime.\n",
    "\n",
    "The main difference is that exceptions occur during program execution and can be caught and handled using \n",
    "exception handling mechanisms, allowing the program to continue running. Syntax errors, on the other hand,\n",
    "occur due to violations of the language's syntax rules and prevent the program from running until the \n",
    "errors are fixed in the code itself.'''"
   ]
  },
  {
   "cell_type": "code",
   "execution_count": 3,
   "id": "7f67a78b",
   "metadata": {},
   "outputs": [
    {
     "ename": "ZeroDivisionError",
     "evalue": "division by zero",
     "output_type": "error",
     "traceback": [
      "\u001b[1;31m---------------------------------------------------------------------------\u001b[0m",
      "\u001b[1;31mZeroDivisionError\u001b[0m                         Traceback (most recent call last)",
      "Cell \u001b[1;32mIn[3], line 14\u001b[0m\n\u001b[0;32m     11\u001b[0m     \u001b[38;5;28;01mreturn\u001b[39;00m result\n\u001b[0;32m     13\u001b[0m \u001b[38;5;66;03m# Calling the function with invalid input\u001b[39;00m\n\u001b[1;32m---> 14\u001b[0m result \u001b[38;5;241m=\u001b[39m \u001b[43mdivide_numbers\u001b[49m\u001b[43m(\u001b[49m\u001b[38;5;241;43m10\u001b[39;49m\u001b[43m,\u001b[49m\u001b[43m \u001b[49m\u001b[38;5;241;43m0\u001b[39;49m\u001b[43m)\u001b[49m\n\u001b[0;32m     15\u001b[0m \u001b[38;5;28mprint\u001b[39m(result)\n",
      "Cell \u001b[1;32mIn[3], line 10\u001b[0m, in \u001b[0;36mdivide_numbers\u001b[1;34m(a, b)\u001b[0m\n\u001b[0;32m      9\u001b[0m \u001b[38;5;28;01mdef\u001b[39;00m \u001b[38;5;21mdivide_numbers\u001b[39m(a, b):\n\u001b[1;32m---> 10\u001b[0m     result \u001b[38;5;241m=\u001b[39m \u001b[43ma\u001b[49m\u001b[43m \u001b[49m\u001b[38;5;241;43m/\u001b[39;49m\u001b[43m \u001b[49m\u001b[43mb\u001b[49m\n\u001b[0;32m     11\u001b[0m     \u001b[38;5;28;01mreturn\u001b[39;00m result\n",
      "\u001b[1;31mZeroDivisionError\u001b[0m: division by zero"
     ]
    }
   ],
   "source": [
    "# Question 2 \n",
    "'''When an exception is not handled in Python, it results in the termination of the program and an error\n",
    "message is displayed to the user. The error message provides information about the type of exception that\n",
    "occurred, along with a traceback that shows the sequence of function calls and code lines leading to the \n",
    "exception.\n",
    "\n",
    "Here's an example to illustrate what happens when an exception is not handled:'''\n",
    "\n",
    "def divide_numbers(a, b):\n",
    "    result = a / b\n",
    "    return result\n",
    "\n",
    "# Calling the function with invalid input\n",
    "result = divide_numbers(10, 0)\n",
    "print(result)\n"
   ]
  },
  {
   "cell_type": "code",
   "execution_count": 4,
   "id": "812fa61e",
   "metadata": {},
   "outputs": [
    {
     "name": "stdout",
     "output_type": "stream",
     "text": [
      "Division result: 5.0\n",
      "Error: Division by zero is not allowed!\n"
     ]
    }
   ],
   "source": [
    "# QUESTION 3\n",
    "'''In Python, try-except statements are used to handle exceptions. The try block is used to enclose the\n",
    "code where an exception might occur, and the except block is used to catch and handle the exception.\n",
    "\n",
    "Here's an example to illustrate the usage of try-except statements in exception handling:'''\n",
    "\n",
    "def divide_numbers(a, b):\n",
    "    try:\n",
    "        result = a / b\n",
    "        print(\"Division result:\", result)\n",
    "    except ZeroDivisionError:\n",
    "        print(\"Error: Division by zero is not allowed!\")\n",
    "\n",
    "# Calling the function with different arguments\n",
    "divide_numbers(10, 2)  # No exception occurs\n",
    "divide_numbers(10, 0)  # ZeroDivisionError occurs\n",
    "\n"
   ]
  },
  {
   "cell_type": "code",
   "execution_count": 7,
   "id": "23a4e895",
   "metadata": {},
   "outputs": [
    {
     "name": "stdout",
     "output_type": "stream",
     "text": [
      "Division result: 2.0\n"
     ]
    }
   ],
   "source": [
    "# QUESTION 4 \n",
    "'''a).try-except-else statement:\n",
    "The try-except-else statement allows you to specify a block of code to be executed if no exceptions occur \n",
    "within the try block. This block of code is known as the else block.\n",
    "Here's an example:'''\n",
    "try:\n",
    "    result = 10 / 5\n",
    "except ZeroDivisionError:\n",
    "    print(\"Error: Division by zero!\")\n",
    "else:\n",
    "    print(\"Division result:\", result)"
   ]
  },
  {
   "cell_type": "code",
   "execution_count": 8,
   "id": "6d2359f6",
   "metadata": {
    "scrolled": true
   },
   "outputs": [
    {
     "ename": "NameError",
     "evalue": "name 'file' is not defined",
     "output_type": "error",
     "traceback": [
      "\u001b[1;31m---------------------------------------------------------------------------\u001b[0m",
      "\u001b[1;31mFileNotFoundError\u001b[0m                         Traceback (most recent call last)",
      "Cell \u001b[1;32mIn[8], line 5\u001b[0m\n\u001b[0;32m      4\u001b[0m \u001b[38;5;28;01mtry\u001b[39;00m:\n\u001b[1;32m----> 5\u001b[0m     file \u001b[38;5;241m=\u001b[39m \u001b[38;5;28;43mopen\u001b[39;49m\u001b[43m(\u001b[49m\u001b[38;5;124;43m\"\u001b[39;49m\u001b[38;5;124;43mexample.txt\u001b[39;49m\u001b[38;5;124;43m\"\u001b[39;49m\u001b[43m,\u001b[49m\u001b[43m \u001b[49m\u001b[38;5;124;43m\"\u001b[39;49m\u001b[38;5;124;43mr\u001b[39;49m\u001b[38;5;124;43m\"\u001b[39;49m\u001b[43m)\u001b[49m\n\u001b[0;32m      6\u001b[0m     \u001b[38;5;66;03m# Perform some operations on the file\u001b[39;00m\n\u001b[0;32m      7\u001b[0m \u001b[38;5;28;01mfinally\u001b[39;00m:\n",
      "File \u001b[1;32mC:\\python 36\\Lib\\site-packages\\IPython\\core\\interactiveshell.py:284\u001b[0m, in \u001b[0;36m_modified_open\u001b[1;34m(file, *args, **kwargs)\u001b[0m\n\u001b[0;32m    278\u001b[0m     \u001b[38;5;28;01mraise\u001b[39;00m \u001b[38;5;167;01mValueError\u001b[39;00m(\n\u001b[0;32m    279\u001b[0m         \u001b[38;5;124mf\u001b[39m\u001b[38;5;124m\"\u001b[39m\u001b[38;5;124mIPython won\u001b[39m\u001b[38;5;124m'\u001b[39m\u001b[38;5;124mt let you open fd=\u001b[39m\u001b[38;5;132;01m{\u001b[39;00mfile\u001b[38;5;132;01m}\u001b[39;00m\u001b[38;5;124m by default \u001b[39m\u001b[38;5;124m\"\u001b[39m\n\u001b[0;32m    280\u001b[0m         \u001b[38;5;124m\"\u001b[39m\u001b[38;5;124mas it is likely to crash IPython. If you know what you are doing, \u001b[39m\u001b[38;5;124m\"\u001b[39m\n\u001b[0;32m    281\u001b[0m         \u001b[38;5;124m\"\u001b[39m\u001b[38;5;124myou can use builtins\u001b[39m\u001b[38;5;124m'\u001b[39m\u001b[38;5;124m open.\u001b[39m\u001b[38;5;124m\"\u001b[39m\n\u001b[0;32m    282\u001b[0m     )\n\u001b[1;32m--> 284\u001b[0m \u001b[38;5;28;01mreturn\u001b[39;00m \u001b[43mio_open\u001b[49m\u001b[43m(\u001b[49m\u001b[43mfile\u001b[49m\u001b[43m,\u001b[49m\u001b[43m \u001b[49m\u001b[38;5;241;43m*\u001b[39;49m\u001b[43margs\u001b[49m\u001b[43m,\u001b[49m\u001b[43m \u001b[49m\u001b[38;5;241;43m*\u001b[39;49m\u001b[38;5;241;43m*\u001b[39;49m\u001b[43mkwargs\u001b[49m\u001b[43m)\u001b[49m\n",
      "\u001b[1;31mFileNotFoundError\u001b[0m: [Errno 2] No such file or directory: 'example.txt'",
      "\nDuring handling of the above exception, another exception occurred:\n",
      "\u001b[1;31mNameError\u001b[0m                                 Traceback (most recent call last)",
      "Cell \u001b[1;32mIn[8], line 8\u001b[0m\n\u001b[0;32m      5\u001b[0m     file \u001b[38;5;241m=\u001b[39m \u001b[38;5;28mopen\u001b[39m(\u001b[38;5;124m\"\u001b[39m\u001b[38;5;124mexample.txt\u001b[39m\u001b[38;5;124m\"\u001b[39m, \u001b[38;5;124m\"\u001b[39m\u001b[38;5;124mr\u001b[39m\u001b[38;5;124m\"\u001b[39m)\n\u001b[0;32m      6\u001b[0m     \u001b[38;5;66;03m# Perform some operations on the file\u001b[39;00m\n\u001b[0;32m      7\u001b[0m \u001b[38;5;28;01mfinally\u001b[39;00m:\n\u001b[1;32m----> 8\u001b[0m     \u001b[43mfile\u001b[49m\u001b[38;5;241m.\u001b[39mclose()\n\u001b[0;32m      9\u001b[0m     \u001b[38;5;28mprint\u001b[39m(\u001b[38;5;124m\"\u001b[39m\u001b[38;5;124mFile closed.\u001b[39m\u001b[38;5;124m\"\u001b[39m)\n",
      "\u001b[1;31mNameError\u001b[0m: name 'file' is not defined"
     ]
    }
   ],
   "source": [
    "''' b).The finally statement is used to define a block of code that will always be executed, regardless of\n",
    "whether an exception occurs or not. It is typically used to perform cleanup actions or release resources.\n",
    "Here's an example:'''\n",
    "try:\n",
    "    file = open(\"example.txt\", \"r\")\n",
    "    # Perform some operations on the file\n",
    "finally:\n",
    "    file.close()\n",
    "    print(\"File closed.\")"
   ]
  },
  {
   "cell_type": "code",
   "execution_count": 9,
   "id": "0dc65cbd",
   "metadata": {},
   "outputs": [
    {
     "name": "stdout",
     "output_type": "stream",
     "text": [
      "Error: Age must be at least 18 for this action.\n"
     ]
    }
   ],
   "source": [
    "'''the raise statement is used to explicitly raise an exception. It allows you to generate and throw custom \n",
    "exceptions or propagate existing ones.\n",
    "\n",
    "Here's an example to illustrate the usage of raise statement:'''\n",
    "\n",
    "def validate_age(age):\n",
    "    if age < 0:\n",
    "        raise ValueError(\"Age cannot be negative.\")\n",
    "    elif age < 18:\n",
    "        raise ValueError(\"Age must be at least 18 for this action.\")\n",
    "    else:\n",
    "        print(\"Age is valid. Proceed with the action.\")\n",
    "\n",
    "try:\n",
    "    validate_age(15)\n",
    "except ValueError as e:\n",
    "    print(\"Error:\", str(e))\n"
   ]
  },
  {
   "cell_type": "code",
   "execution_count": 10,
   "id": "e23c3d11",
   "metadata": {},
   "outputs": [
    {
     "name": "stdout",
     "output_type": "stream",
     "text": [
      "Error: Insufficient funds.\n"
     ]
    }
   ],
   "source": [
    "# QUESTION 5 \n",
    "'''custom exceptions are user-defined exceptions that inherit from the built-in Exception class or its\n",
    "subclasses. They allow you to create specialized exception classes tailored to your specific needs and\n",
    "application requirements.\n",
    "\n",
    "Here's an example to illustrate the need for custom exceptions:'''\n",
    "class WithdrawalError(Exception):\n",
    "    pass\n",
    "\n",
    "class BankAccount:\n",
    "    def __init__(self, balance):\n",
    "        self.balance = balance\n",
    "\n",
    "    def withdraw(self, amount):\n",
    "        if amount <= 0:\n",
    "            raise WithdrawalError(\"Invalid withdrawal amount.\")\n",
    "        if amount > self.balance:\n",
    "            raise WithdrawalError(\"Insufficient funds.\")\n",
    "        self.balance -= amount\n",
    "        print(\"Withdrawal successful. New balance:\", self.balance)\n",
    "\n",
    "# Creating a bank account with initial balance\n",
    "account = BankAccount(1000)\n",
    "\n",
    "try:\n",
    "    account.withdraw(1500)\n",
    "except WithdrawalError as e:\n",
    "    print(\"Error:\", str(e))\n"
   ]
  },
  {
   "cell_type": "code",
   "execution_count": 11,
   "id": "0ba03a8e",
   "metadata": {},
   "outputs": [
    {
     "name": "stdout",
     "output_type": "stream",
     "text": [
      "Error: Invalid email: invalid.email.com\n"
     ]
    }
   ],
   "source": [
    "# QUESTION 5 \n",
    "class InvalidEmailError(Exception):\n",
    "    def __init__(self, email):\n",
    "        self.email = email\n",
    "        super().__init__(f\"Invalid email: {email}\")\n",
    "\n",
    "def validate_email(email):\n",
    "    if \"@\" not in email:\n",
    "        raise InvalidEmailError(email)\n",
    "    else:\n",
    "        print(\"Email is valid.\")\n",
    "\n",
    "try:\n",
    "    email = \"invalid.email.com\"\n",
    "    validate_email(email)\n",
    "except InvalidEmailError as e:\n",
    "    print(\"Error:\", str(e))\n"
   ]
  },
  {
   "cell_type": "code",
   "execution_count": null,
   "id": "44f8c9a0",
   "metadata": {},
   "outputs": [],
   "source": []
  }
 ],
 "metadata": {
  "kernelspec": {
   "display_name": "Python 3 (ipykernel)",
   "language": "python",
   "name": "python3"
  },
  "language_info": {
   "codemirror_mode": {
    "name": "ipython",
    "version": 3
   },
   "file_extension": ".py",
   "mimetype": "text/x-python",
   "name": "python",
   "nbconvert_exporter": "python",
   "pygments_lexer": "ipython3",
   "version": "3.11.2"
  }
 },
 "nbformat": 4,
 "nbformat_minor": 5
}
