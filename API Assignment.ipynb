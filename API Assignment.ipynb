{
 "cells": [
  {
   "cell_type": "code",
   "execution_count": 1,
   "id": "6e97d026",
   "metadata": {},
   "outputs": [
    {
     "data": {
      "text/plain": [
       "'An API (Application Programming Interface) is a set of rules and protocols that allows different software a\\npplications to communicate and interact with each other. It defines how different components of software sy\\nstems should interact and what kind of data and functionalities they can access.\\n\\nAn example of an API used in real life is the Google Maps API. Google Maps provides a service that allows\\ndevelopers to integrate maps and location-related features into their own applications or websites by \\nusing the Google Maps API. Developers can access various functionalities such as displaying maps, retriev\\ning location data, calculating directions, and even integrating features like geocoding (converting addres\\nses into geographic coordinates) and place search.'"
      ]
     },
     "execution_count": 1,
     "metadata": {},
     "output_type": "execute_result"
    }
   ],
   "source": [
    "#QUESTION 1 \n",
    "'''An API (Application Programming Interface) is a set of rules and protocols that allows different software a\n",
    "pplications to communicate and interact with each other. It defines how different components of software sy\n",
    "stems should interact and what kind of data and functionalities they can access.\n",
    "\n",
    "An example of an API used in real life is the Google Maps API. Google Maps provides a service that allows\n",
    "developers to integrate maps and location-related features into their own applications or websites by \n",
    "using the Google Maps API. Developers can access various functionalities such as displaying maps, retriev\n",
    "ing location data, calculating directions, and even integrating features like geocoding (converting addres\n",
    "ses into geographic coordinates) and place search.''' "
   ]
  },
  {
   "cell_type": "code",
   "execution_count": 5,
   "id": "66dde308",
   "metadata": {},
   "outputs": [
    {
     "ename": "SyntaxError",
     "evalue": "incomplete input (3554854056.py, line 2)",
     "output_type": "error",
     "traceback": [
      "\u001b[1;36m  Cell \u001b[1;32mIn[5], line 2\u001b[1;36m\u001b[0m\n\u001b[1;33m    '''Advantages of using APIs\u001b[0m\n\u001b[1;37m    ^\u001b[0m\n\u001b[1;31mSyntaxError\u001b[0m\u001b[1;31m:\u001b[0m incomplete input\n"
     ]
    }
   ],
   "source": [
    "#QUESTION 2 \n",
    "'''Advantages of using APIs\n",
    "\n",
    "1. Modularity and Reusability: APIs enable modular design by providing a way to break down complex systems\n",
    "into smaller, more manageable components. These components can be reused across different applications\n",
    ", saving time and effort in development.\n",
    "\n",
    "2. Increased Efficiency: APIs allow developers to leverage pre-existing functionalities and services, reducing\n",
    "the need to reinvent the wheel. This speeds up development and allows developers to focus on other aspe\n",
    "cts of their applications.\n",
    "\n",
    "3. Interoperability: APIs facilitate communication and data exchange between different software systems and \n",
    "platforms. They provide a standardized way for applications to interact with each other, regardless of\n",
    "their underlying technologies or programming languages.\n",
    "\n",
    "Disadvantages of using APIs:\n",
    "\n",
    "1.Dependency on External Services: When using external APIs, applications become dependent on the availabilit\n",
    "y and reliability of those services. If the API experiences downtime or undergoes changes, it can impact\n",
    "the functionality of the dependent applications.\n",
    "\n",
    "2.Security Concerns: APIs expose endpoints that can be accessed by external systems, which introduces potent\n",
    "ial security vulnerabilities. Proper authentication, access controls, and data validation must be implement\n",
    "ed to ensure the security of both the API and the systems using it.\n",
    "\n",
    "3.Lack of Control: When relying on third-party APIs, developers have limited control over the implementation\n",
    "and maintenance of those APIs. Changes or updates made to the API by the provider can affect the functional\n",
    "ity or compatibility of the dependent applications."
   ]
  },
  {
   "cell_type": "code",
   "execution_count": 2,
   "id": "e9c1c935",
   "metadata": {},
   "outputs": [
    {
     "data": {
      "text/plain": [
       "'A Web API, also known as a web service API or HTTP API, is a specific type of API that is designed to be\\naccessed over the web using HTTP (Hypertext Transfer Protocol). It enables communication and data exchange \\nbetween different software applications or systems using standard web protocols.\\n\\nHere s a differentiation between API and Web API:\\n\\nAPI:\\n\\nAn API (Application Programming Interface) is a general term that refers to a set of rules and protocols\\nthat define how software components should interact with each other.\\nAPIs can be implemented using various technologies and protocols, such as web APIs, library APIs, operating\\nsystem APIs, and more.APIs can facilitate communication within a single application or between different \\napplications, systems, or services.\\n\\nWeb API:\\n\\nA Web API is a specific type of API that is accessed over the web using HTTP protocols.\\nWeb APIs are typically based on REST (Representational State Transfer) principles, which provide a stateles\\ns, uniform, and scalable approach to building APIs.\\nWeb APIs use standard HTTP methods (GET, POST, PUT, DELETE) to perform operations on resources exposed by \\nthe API.\\nWeb APIs commonly return data in a structured format, such as JSON (JavaScript Object Notation) or XML \\n(eXtensible Markup Language).\\nIn summary, while API is a general term referring to any set of rules that define how software components \\ninteract, a Web API specifically refers to an API that is accessed over the web using HTTP protocols and \\nfollows REST principles for data exchange.'"
      ]
     },
     "execution_count": 2,
     "metadata": {},
     "output_type": "execute_result"
    }
   ],
   "source": [
    "#QUESTION 3 \n",
    "'''A Web API, also known as a web service API or HTTP API, is a specific type of API that is designed to be\n",
    "accessed over the web using HTTP (Hypertext Transfer Protocol). It enables communication and data exchange \n",
    "between different software applications or systems using standard web protocols.\n",
    "\n",
    "Here s a differentiation between API and Web API:\n",
    "\n",
    "API:\n",
    "\n",
    "An API (Application Programming Interface) is a general term that refers to a set of rules and protocols\n",
    "that define how software components should interact with each other.\n",
    "APIs can be implemented using various technologies and protocols, such as web APIs, library APIs, operating\n",
    "system APIs, and more.APIs can facilitate communication within a single application or between different \n",
    "applications, systems, or services.\n",
    "\n",
    "Web API:\n",
    "\n",
    "A Web API is a specific type of API that is accessed over the web using HTTP protocols.\n",
    "Web APIs are typically based on REST (Representational State Transfer) principles, which provide a stateles\n",
    "s, uniform, and scalable approach to building APIs.\n",
    "Web APIs use standard HTTP methods (GET, POST, PUT, DELETE) to perform operations on resources exposed by \n",
    "the API.\n",
    "Web APIs commonly return data in a structured format, such as JSON (JavaScript Object Notation) or XML \n",
    "(eXtensible Markup Language).\n",
    "In summary, while API is a general term referring to any set of rules that define how software components \n",
    "interact, a Web API specifically refers to an API that is accessed over the web using HTTP protocols and \n",
    "follows REST principles for data exchange.'''"
   ]
  },
  {
   "cell_type": "code",
   "execution_count": 3,
   "id": "b1b9ca2f",
   "metadata": {},
   "outputs": [
    {
     "data": {
      "text/plain": [
       "'REST Architecture:\\n\\nREST is an architectural style that emphasizes simplicity, scalability, and statelessness.\\nIt is based on a client-server model, where the server exposes a set of resources that can be accessed and \\nmanipulated by clients.\\nRESTful APIs use standard HTTP methods (GET, POST, PUT, DELETE) to perform operations on resources.\\nResources are identified by unique URIs (Uniform Resource Identifiers).\\nRESTful APIs often return data in lightweight and widely supported formats such as JSON or XML.\\n\\nSOAP Architecture:\\n\\nSOAP is a protocol that defines a standard format for exchanging structured information between web services.\\nIt is based on a more complex messaging model, where XML-based SOAP messages are sent between the client \\nand the server.\\nSOAP provides a more rigid and formal contract-based approach to web services.\\nSOAP supports various protocols for message transport, such as HTTP, SMTP, and more.\\n\\nShortcomings of SOAP:\\n\\nComplexity: SOAP has a more complex messaging structure compared to REST, involving XML parsing and extensi\\nve metadata. This complexity can make it more difficult to develop, understand, and maintain SOAP-based \\nweb services.\\n\\nOverhead: SOAP messages tend to be larger in size due to the XML structure and additional metadata. This \\ncan result in increased network bandwidth consumption and slower performance, especially for resource-\\nconstrained environments.\\n\\nLack of Compatibility: SOAP is less compatible with web standards compared to REST. It may require addition\\nal configuration and specialized tooling to work across different platforms and technologies, which \\ncan limit interoperability.'"
      ]
     },
     "execution_count": 3,
     "metadata": {},
     "output_type": "execute_result"
    }
   ],
   "source": [
    "#QUESTION 4 \n",
    "'''REST Architecture:\n",
    "\n",
    "REST is an architectural style that emphasizes simplicity, scalability, and statelessness.\n",
    "It is based on a client-server model, where the server exposes a set of resources that can be accessed and \n",
    "manipulated by clients.\n",
    "RESTful APIs use standard HTTP methods (GET, POST, PUT, DELETE) to perform operations on resources.\n",
    "Resources are identified by unique URIs (Uniform Resource Identifiers).\n",
    "RESTful APIs often return data in lightweight and widely supported formats such as JSON or XML.\n",
    "\n",
    "SOAP Architecture:\n",
    "\n",
    "SOAP is a protocol that defines a standard format for exchanging structured information between web services.\n",
    "It is based on a more complex messaging model, where XML-based SOAP messages are sent between the client \n",
    "and the server.\n",
    "SOAP provides a more rigid and formal contract-based approach to web services.\n",
    "SOAP supports various protocols for message transport, such as HTTP, SMTP, and more.\n",
    "\n",
    "Shortcomings of SOAP:\n",
    "\n",
    "Complexity: SOAP has a more complex messaging structure compared to REST, involving XML parsing and extensi\n",
    "ve metadata. This complexity can make it more difficult to develop, understand, and maintain SOAP-based \n",
    "web services.\n",
    "\n",
    "Overhead: SOAP messages tend to be larger in size due to the XML structure and additional metadata. This \n",
    "can result in increased network bandwidth consumption and slower performance, especially for resource-\n",
    "constrained environments.\n",
    "\n",
    "Lack of Compatibility: SOAP is less compatible with web standards compared to REST. It may require addition\n",
    "al configuration and specialized tooling to work across different platforms and technologies, which \n",
    "can limit interoperability.'''"
   ]
  },
  {
   "cell_type": "code",
   "execution_count": 4,
   "id": "57956643",
   "metadata": {},
   "outputs": [
    {
     "data": {
      "text/plain": [
       "'REST is known for its simplicity, ease of integration, and statelessness, while SOAP provides a more formal\\nand feature-rich approach with advanced capabilities such as security and reliability. RESTful APIs use \\nstandard HTTP methods and lightweight formats, making them widely compatible and easy to work with. SOAP, \\non the other hand, has a more complex messaging structure, supports multiple protocols, and is often used \\nin enterprise systems that require strict standards compliance and advanced features.'"
      ]
     },
     "execution_count": 4,
     "metadata": {},
     "output_type": "execute_result"
    }
   ],
   "source": [
    "#QUESTION 5 \n",
    "'''REST is known for its simplicity, ease of integration, and statelessness, while SOAP provides a more formal\n",
    "and feature-rich approach with advanced capabilities such as security and reliability. RESTful APIs use \n",
    "standard HTTP methods and lightweight formats, making them widely compatible and easy to work with. SOAP, \n",
    "on the other hand, has a more complex messaging structure, supports multiple protocols, and is often used \n",
    "in enterprise systems that require strict standards compliance and advanced features.'''\n"
   ]
  },
  {
   "cell_type": "code",
   "execution_count": null,
   "id": "f771ebc2",
   "metadata": {},
   "outputs": [],
   "source": []
  }
 ],
 "metadata": {
  "kernelspec": {
   "display_name": "Python 3 (ipykernel)",
   "language": "python",
   "name": "python3"
  },
  "language_info": {
   "codemirror_mode": {
    "name": "ipython",
    "version": 3
   },
   "file_extension": ".py",
   "mimetype": "text/x-python",
   "name": "python",
   "nbconvert_exporter": "python",
   "pygments_lexer": "ipython3",
   "version": "3.11.2"
  }
 },
 "nbformat": 4,
 "nbformat_minor": 5
}
