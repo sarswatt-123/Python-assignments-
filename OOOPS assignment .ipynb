{
 "cells": [
  {
   "cell_type": "code",
   "execution_count": 3,
   "id": "80bcfffb",
   "metadata": {},
   "outputs": [
    {
     "name": "stdout",
     "output_type": "stream",
     "text": [
      "Rectangle Area: 15\n",
      "Rectangle Perimeter: 16\n",
      "Circle Area: 50.24\n",
      "Circle Circumference: 25.12\n"
     ]
    }
   ],
   "source": [
    "# QUESTION 1\n",
    "'''Abstraction is one of the fundamental concepts in object-oriented programming (OOPs) that allows us to\n",
    "represent complex real-world entities as simplified models in code. It involves identifying the essential \n",
    "characteristics and behaviors of an object and ignoring the irrelevant or unnecessary details.'''\n",
    "\n",
    "from abc import ABC, abstractmethod\n",
    "\n",
    "class Shape(ABC):\n",
    "    @abstractmethod\n",
    "    def area(self):\n",
    "        pass\n",
    "\n",
    "    @abstractmethod\n",
    "    def perimeter(self):\n",
    "        pass\n",
    "\n",
    "class Rectangle(Shape):\n",
    "    def __init__(self, length, width):\n",
    "        self.length = length\n",
    "        self.width = width\n",
    "\n",
    "    def area(self):\n",
    "        return self.length * self.width\n",
    "\n",
    "    def perimeter(self):\n",
    "        return 2 * (self.length + self.width)\n",
    "\n",
    "class Circle(Shape):\n",
    "    def __init__(self, radius):\n",
    "        self.radius = radius\n",
    "\n",
    "    def area(self):\n",
    "        return 3.14 * self.radius * self.radius\n",
    "\n",
    "    def perimeter(self):\n",
    "        return 2 * 3.14 * self.radius\n",
    "\n",
    "# Uncommenting the following line would result in an error\n",
    "# shape = Shape()\n",
    "\n",
    "rectangle = Rectangle(5, 3)\n",
    "print(\"Rectangle Area:\", rectangle.area())\n",
    "print(\"Rectangle Perimeter:\", rectangle.perimeter())\n",
    "\n",
    "circle = Circle(4)\n",
    "print(\"Circle Area:\", circle.area())\n",
    "print(\"Circle Circumference:\", circle.perimeter())"
   ]
  },
  {
   "cell_type": "code",
   "execution_count": 4,
   "id": "577615ed",
   "metadata": {},
   "outputs": [
    {
     "name": "stdout",
     "output_type": "stream",
     "text": [
      "Tesla Model S: Engine started.\n",
      "Tesla Model S: Engine is already running.\n",
      "Tesla Model S: Engine stopped.\n",
      "Tesla Model S: Engine is already stopped.\n"
     ]
    }
   ],
   "source": [
    "# QUESTION 2\n",
    "'''Abstraction and encapsulation are two important principles in object-oriented programming, but they \n",
    "serve different purposes and have distinct characteristics.\n",
    "\n",
    "Abstraction focuses on simplifying complex entities by identifying their essential features and ignoring \n",
    "irrelevant details. It allows you to create abstract models or classes that define the common characteri\n",
    "stics and behaviors of a group of objects, without specifying their implementation. Abstraction is\n",
    "achieved using abstract classes and interfaces. The main goal of abstraction is to provide a high-level\n",
    "view or blueprint of objects.\n",
    "\n",
    "Encapsulation, on the other hand, is about bundling data and methods together within a class, and restri\n",
    "cting access to the internal details of an object. It ensures that the implementation details of a class\n",
    "are hidden and can only be accessed through well-defined interfaces or methods. Encapsulation helps in \n",
    "achieving data protection, code organization, and modularity.'''\n",
    "\n",
    "\n",
    "from abc import ABC, abstractmethod\n",
    "\n",
    "# Abstraction\n",
    "class Vehicle(ABC):\n",
    "    def __init__(self, name):\n",
    "        self.name = name\n",
    "\n",
    "    @abstractmethod\n",
    "    def start_engine(self):\n",
    "        pass\n",
    "\n",
    "    @abstractmethod\n",
    "    def stop_engine(self):\n",
    "        pass\n",
    "\n",
    "# Encapsulation\n",
    "class Car(Vehicle):\n",
    "    def __init__(self, name):\n",
    "        super().__init__(name)\n",
    "        self.__engine_running = False\n",
    "\n",
    "    def start_engine(self):\n",
    "        if not self.__engine_running:\n",
    "            print(f\"{self.name}: Engine started.\")\n",
    "            self.__engine_running = True\n",
    "        else:\n",
    "            print(f\"{self.name}: Engine is already running.\")\n",
    "\n",
    "    def stop_engine(self):\n",
    "        if self.__engine_running:\n",
    "            print(f\"{self.name}: Engine stopped.\")\n",
    "            self.__engine_running = False\n",
    "        else:\n",
    "            print(f\"{self.name}: Engine is already stopped.\")\n",
    "\n",
    "car = Car(\"Tesla Model S\")\n",
    "car.start_engine()   # Output: Tesla Model S: Engine started.\n",
    "car.start_engine()   # Output: Tesla Model S: Engine is already running.\n",
    "car.stop_engine()    # Output: Tesla Model S: Engine stopped.\n",
    "car.stop_engine()    # Output: Tesla Model S: Engine is already stopped."
   ]
  },
  {
   "cell_type": "code",
   "execution_count": 5,
   "id": "bac7d3b9",
   "metadata": {},
   "outputs": [
    {
     "data": {
      "text/plain": [
       "'The abc module in Python stands for \"Abstract Base Classes.\" It is a module in the Python standard libr\\n ary that provides the necessary tools for defining and working with abstract base classes.\\n\\nAbstract base classes (ABCs) are classes that cannot be instantiated themselves but are designed to be \\nsubclassed by concrete classes. They serve as blueprints or interfaces, defining a common interface and a\\nset of methods that concrete subclasses must implement.\\nThe abc module is used for several purposes:\\n\\n1.Defining abstract base classes: The abc module allows you to define abstract base classes by using the ABC\\nmetaclass. Abstract base classes provide a way to specify a common interface and a set of methods that\\nconcrete subclasses should implement. They serve as a contract or blueprint for the expected behavior\\nof subclasses.\\n\\n2.Enforcing implementation of abstract methods: The abc module provides the abstractmethod decorator, which\\nis used to declare abstract methods within abstract base classes. This decorator ensures that any\\nconcrete subclass must implement these methods, or else a TypeError will be raised.\\n\\n3.Checking class hierarchy: The abc module provides functions like isinstance() and issubclass() that can \\nbe used to check if a class or object is an instance of an abstract base class or its subclasses.\\nThis allows for runtime checks and validation of class hierarchies.'"
      ]
     },
     "execution_count": 5,
     "metadata": {},
     "output_type": "execute_result"
    }
   ],
   "source": [
    "# QUESTION 3 \n",
    "'''The abc module in Python stands for \"Abstract Base Classes.\" It is a module in the Python standard libr\n",
    " ary that provides the necessary tools for defining and working with abstract base classes.\n",
    "\n",
    "Abstract base classes (ABCs) are classes that cannot be instantiated themselves but are designed to be \n",
    "subclassed by concrete classes. They serve as blueprints or interfaces, defining a common interface and a\n",
    "set of methods that concrete subclasses must implement.\n",
    "The abc module is used for several purposes:\n",
    "\n",
    "1.Defining abstract base classes: The abc module allows you to define abstract base classes by using the ABC\n",
    "metaclass. Abstract base classes provide a way to specify a common interface and a set of methods that\n",
    "concrete subclasses should implement. They serve as a contract or blueprint for the expected behavior\n",
    "of subclasses.\n",
    "\n",
    "2.Enforcing implementation of abstract methods: The abc module provides the abstractmethod decorator, which\n",
    "is used to declare abstract methods within abstract base classes. This decorator ensures that any\n",
    "concrete subclass must implement these methods, or else a TypeError will be raised.\n",
    "\n",
    "3.Checking class hierarchy: The abc module provides functions like isinstance() and issubclass() that can \n",
    "be used to check if a class or object is an instance of an abstract base class or its subclasses.\n",
    "This allows for runtime checks and validation of class hierarchies.'''"
   ]
  },
  {
   "cell_type": "code",
   "execution_count": 6,
   "id": "15ede66a",
   "metadata": {},
   "outputs": [
    {
     "data": {
      "text/plain": [
       "'Data abstraction can be achieved in object-oriented programming by using classes and objects to represent\\nand manipulate data. It involves hiding the internal details and complexities of data and providing a\\nsimplified and consistent interface for interacting with that data.\\n\\nHere are a few techniques to achieve data abstraction:\\n\\nEncapsulation: Encapsulation is the process of bundling data and the methods that operate on that data\\ntogether within a class. It allows you to hide the internal details of data by making the data private\\nand exposing public methods to access and modify the data. This way, the data can only be accessed and\\nmanipulated through well-defined interfaces, ensuring data integrity and encapsulating the implementat\\nion details.\\n\\nAccess Modifiers: In many object-oriented languages, such as Python, Java, and C++, access modifiers like\\nprivate, protected, and public can be used to control the visibility and accessibility of data members\\nand methods. By making data members private, you limit their access to within the class itself, \\nenforcing encapsulation and preventing direct manipulation from outside the class. Public methods\\ncan be provided to interact with the private data, allowing controlled and consistent access.\\n\\nGetter and Setter Methods: Getter and setter methods, also known as accessors and mutators, are public\\nmethods that provide controlled access to private data members. Getter methods allow retrieving the\\nvalues of data members, while setter methods enable setting or modifying the values. By using getter\\nand setter methods, you can enforce validation, perform additional logic, and maintain control over\\nthe data being accessed or modified.\\n\\nAbstract Classes and Interfaces: Abstract classes and interfaces provide a way to define a common\\ninterface for a group of related classes. They allow you to specify a set of methods that subclasses\\nmust implement, without providing the implementation details. By using abstract classes and interfaces\\n, you can focus on the interface or behavior of the data without exposing the internal implementation\\ndetails.'"
      ]
     },
     "execution_count": 6,
     "metadata": {},
     "output_type": "execute_result"
    }
   ],
   "source": [
    "# Question 4 \n",
    "'''Data abstraction can be achieved in object-oriented programming by using classes and objects to represent\n",
    "and manipulate data. It involves hiding the internal details and complexities of data and providing a\n",
    "simplified and consistent interface for interacting with that data.\n",
    "\n",
    "Here are a few techniques to achieve data abstraction:\n",
    "\n",
    "Encapsulation: Encapsulation is the process of bundling data and the methods that operate on that data\n",
    "together within a class. It allows you to hide the internal details of data by making the data private\n",
    "and exposing public methods to access and modify the data. This way, the data can only be accessed and\n",
    "manipulated through well-defined interfaces, ensuring data integrity and encapsulating the implementat\n",
    "ion details.\n",
    "\n",
    "Access Modifiers: In many object-oriented languages, such as Python, Java, and C++, access modifiers like\n",
    "private, protected, and public can be used to control the visibility and accessibility of data members\n",
    "and methods. By making data members private, you limit their access to within the class itself, \n",
    "enforcing encapsulation and preventing direct manipulation from outside the class. Public methods\n",
    "can be provided to interact with the private data, allowing controlled and consistent access.\n",
    "\n",
    "Getter and Setter Methods: Getter and setter methods, also known as accessors and mutators, are public\n",
    "methods that provide controlled access to private data members. Getter methods allow retrieving the\n",
    "values of data members, while setter methods enable setting or modifying the values. By using getter\n",
    "and setter methods, you can enforce validation, perform additional logic, and maintain control over\n",
    "the data being accessed or modified.\n",
    "\n",
    "Abstract Classes and Interfaces: Abstract classes and interfaces provide a way to define a common\n",
    "interface for a group of related classes. They allow you to specify a set of methods that subclasses\n",
    "must implement, without providing the implementation details. By using abstract classes and interfaces\n",
    ", you can focus on the interface or behavior of the data without exposing the internal implementation\n",
    "details.'''"
   ]
  },
  {
   "cell_type": "code",
   "execution_count": null,
   "id": "b1389927",
   "metadata": {},
   "outputs": [],
   "source": [
    "# question 5 \n",
    "'''In summary, abstract classes serve as blueprints and cannot be instantiated directly. They provide a \n",
    "common interface and a set of methods that concrete subclasses must implement. It is the concrete \n",
    "subclasses that can be instantiated to create objects.'''"
   ]
  }
 ],
 "metadata": {
  "kernelspec": {
   "display_name": "Python 3 (ipykernel)",
   "language": "python",
   "name": "python3"
  },
  "language_info": {
   "codemirror_mode": {
    "name": "ipython",
    "version": 3
   },
   "file_extension": ".py",
   "mimetype": "text/x-python",
   "name": "python",
   "nbconvert_exporter": "python",
   "pygments_lexer": "ipython3",
   "version": "3.11.2"
  }
 },
 "nbformat": 4,
 "nbformat_minor": 5
}
